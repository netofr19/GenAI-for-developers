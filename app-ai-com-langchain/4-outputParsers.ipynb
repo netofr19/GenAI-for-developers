{
 "cells": [
  {
   "cell_type": "markdown",
   "metadata": {},
   "source": [
    "# Output Parsers - Padronizando a resposta do modelo"
   ]
  },
  {
   "cell_type": "code",
   "execution_count": 11,
   "metadata": {},
   "outputs": [],
   "source": [
    "from langchain.prompts import ChatPromptTemplate"
   ]
  },
  {
   "cell_type": "code",
   "execution_count": 15,
   "metadata": {},
   "outputs": [],
   "source": [
    "review_cliente = \"\"\"\n",
    "Este soprador de folhas é bastante incrível. Ele tem quatro configurações: sopro de vela, brisa suave, cidade ventosa e tornado. Chegou em dois dias, bem a tempo para o presente de aniversário da minha esposa. Acho que minha esposa gostanto tanto que ficou sem palavras. Até agora, fui o único a usá-lo, e tenho usando em todas as manhãs alternadas para limpar as folhas do nosso gramado. É um pouco mais caro do que os outros sopradores de folhas disponíveis no mercado, mas acho que vale a penas pelas características extras.\n",
    "\"\"\""
   ]
  },
  {
   "cell_type": "code",
   "execution_count": 16,
   "metadata": {},
   "outputs": [],
   "source": [
    "review_template = ChatPromptTemplate.from_template(\"\"\"\n",
    "Para o texto a seguir, extraia as seguintes informações:\n",
    "\n",
    "presente: o item foi comprado para alguém? True caso verdadeiro e False caso falso ou não tenha informação.\n",
    "\n",
    "dias_entrega: quantos dias para a entrega chegar? se a resposta não for encontrada, retorne -1.\n",
    "\n",
    "percepcao_de_valor: Extraia qualquer frase sobre o valor ou preço do produto. Retorne como uma lista Python.\n",
    "\n",
    "Texto: {review}\n",
    "\n",
    "Retorne a resposta no formato JSON.\n",
    "\"\"\")"
   ]
  },
  {
   "cell_type": "code",
   "execution_count": 17,
   "metadata": {},
   "outputs": [
    {
     "name": "stdout",
     "output_type": "stream",
     "text": [
      "[HumanMessage(content='\\nPara o texto a seguir, extraia as seguintes informações:\\n\\npresente: o item foi comprado para alguém? True caso verdadeiro e False caso falso ou não tenha informação.\\n\\ndias_entrega: quantos dias para a entrega chegar? se a resposta não for encontrada, retorne -1.\\n\\npercepcao_de_valor: Extraia qualquer frase sobre o valor ou preço do produto. Retorne como uma lista Python.\\n\\nTexto: \\nEste soprador de folhas é bastante incrível. Ele tem quatro configurações: sopro de vela, brisa suave, cidade ventosa e tornado. Chegou em dois dias, bem a tempo para o presente de aniversário da minha esposa. Acho que minha esposa gostanto tanto que ficou sem palavras. Até agora, fui o único a usá-lo, e tenho usando em todas as manhãs alternadas para limpar as folhas do nosso gramado. É um pouco mais caro do que os outros sopradores de folhas disponíveis no mercado, mas acho que vale a penas pelas características extras.\\n\\n\\nRetorne a resposta no formato JSON.\\n', additional_kwargs={}, response_metadata={})]\n"
     ]
    }
   ],
   "source": [
    "print(review_template.format_messages(review=review_cliente))"
   ]
  },
  {
   "cell_type": "code",
   "execution_count": 18,
   "metadata": {},
   "outputs": [],
   "source": [
    "from langchain_openai import ChatOpenAI\n",
    "\n",
    "chat = ChatOpenAI()"
   ]
  },
  {
   "cell_type": "code",
   "execution_count": 19,
   "metadata": {},
   "outputs": [],
   "source": [
    "resposta = chat.invoke(\n",
    "    review_template.format_messages(review=review_cliente)\n",
    ")"
   ]
  },
  {
   "cell_type": "code",
   "execution_count": 23,
   "metadata": {},
   "outputs": [
    {
     "name": "stdout",
     "output_type": "stream",
     "text": [
      "{\n",
      "    \"presente\": true,\n",
      "    \"dias_entrega\": 2,\n",
      "    \"percepcao_de_valor\": [\"É um pouco mais caro do que os outros sopradores de folhas disponíveis no mercado, mas acho que vale a penas pelas características extras.\"]\n",
      "}\n"
     ]
    }
   ],
   "source": [
    "import json\n",
    "print(resposta.content)"
   ]
  },
  {
   "cell_type": "markdown",
   "metadata": {},
   "source": [
    "## Aplicação de Output Parsers"
   ]
  },
  {
   "cell_type": "code",
   "execution_count": 24,
   "metadata": {},
   "outputs": [],
   "source": [
    "from langchain.output_parsers import ResponseSchema, StructuredOutputParser"
   ]
  },
  {
   "cell_type": "code",
   "execution_count": 25,
   "metadata": {},
   "outputs": [
    {
     "name": "stdout",
     "output_type": "stream",
     "text": [
      "The output should be a markdown code snippet formatted in the following schema, including the leading and trailing \"```json\" and \"```\":\n",
      "\n",
      "```json\n",
      "{\n",
      "\t\"presente\": bool  // o item foi comprado para alguém? True caso verdadeiro e False caso falso ou não tenha informação.\n",
      "\t\"dias_entrega\": int  // quantos dias para a entrega chegar? se a resposta não for encontrada, retorne -1.\n",
      "\t\"percepcao_de_valor\": list  // Extraia qualquer frase sobre o valor ou preço do produto. Retorne como uma lista Python.\n",
      "}\n",
      "```\n"
     ]
    }
   ],
   "source": [
    "schema_presente = ResponseSchema(\n",
    "    name = 'presente',\n",
    "    type = 'bool',\n",
    "    description = 'o item foi comprado para alguém? True caso verdadeiro e False caso falso ou não tenha informação.'\n",
    ")\n",
    "\n",
    "schema_entrega = ResponseSchema(\n",
    "    name = 'dias_entrega',\n",
    "    type = 'int',\n",
    "    description = 'quantos dias para a entrega chegar? se a resposta não for encontrada, retorne -1.'\n",
    ")\n",
    "\n",
    "schema_valor = ResponseSchema(\n",
    "    name = 'percepcao_de_valor',\n",
    "    type = 'list',\n",
    "    description = 'Extraia qualquer frase sobre o valor ou preço do produto. Retorne como uma lista Python.'\n",
    ")\n",
    "\n",
    "response_schema = [\n",
    "    schema_presente,\n",
    "    schema_entrega,\n",
    "    schema_valor\n",
    "]\n",
    "\n",
    "output_parser = StructuredOutputParser.from_response_schemas(response_schema)\n",
    "\n",
    "schema_formatado = output_parser.get_format_instructions()\n",
    "\n",
    "print(schema_formatado)"
   ]
  },
  {
   "cell_type": "code",
   "execution_count": 26,
   "metadata": {},
   "outputs": [
    {
     "name": "stdout",
     "output_type": "stream",
     "text": [
      "[HumanMessage(content='\\n    Para o texto a seguir, extraia as seguintes informações:\\n\\n    presente, dias_entrega e percepcao_de_valor\\n\\n    Texto: \\nEste soprador de folhas é bastante incrível. Ele tem quatro configurações: sopro de vela, brisa suave, cidade ventosa e tornado. Chegou em dois dias, bem a tempo para o presente de aniversário da minha esposa. Acho que minha esposa gostanto tanto que ficou sem palavras. Até agora, fui o único a usá-lo, e tenho usando em todas as manhãs alternadas para limpar as folhas do nosso gramado. É um pouco mais caro do que os outros sopradores de folhas disponíveis no mercado, mas acho que vale a penas pelas características extras.\\n\\n\\n    The output should be a markdown code snippet formatted in the following schema, including the leading and trailing \"```json\" and \"```\":\\n\\n```json\\n{\\n\\t\"presente\": bool  // o item foi comprado para alguém? True caso verdadeiro e False caso falso ou não tenha informação.\\n\\t\"dias_entrega\": int  // quantos dias para a entrega chegar? se a resposta não for encontrada, retorne -1.\\n\\t\"percepcao_de_valor\": list  // Extraia qualquer frase sobre o valor ou preço do produto. Retorne como uma lista Python.\\n}\\n```\\n    ', additional_kwargs={}, response_metadata={})]\n"
     ]
    }
   ],
   "source": [
    "from langchain.prompts import ChatPromptTemplate\n",
    "\n",
    "review_template = ChatPromptTemplate.from_template(\n",
    "    \"\"\"\n",
    "    Para o texto a seguir, extraia as seguintes informações:\n",
    "\n",
    "    presente, dias_entrega e percepcao_de_valor\n",
    "\n",
    "    Texto: {review}\n",
    "\n",
    "    {schema}\n",
    "    \"\"\",\n",
    "    partial_variables={'schema': schema_formatado}\n",
    ")\n",
    "\n",
    "print(review_template.format_messages(review=review_cliente))"
   ]
  },
  {
   "cell_type": "code",
   "execution_count": 27,
   "metadata": {},
   "outputs": [],
   "source": [
    "resposta = chat.invoke(review_template.format_messages(review=review_cliente))"
   ]
  },
  {
   "cell_type": "code",
   "execution_count": 29,
   "metadata": {},
   "outputs": [
    {
     "name": "stdout",
     "output_type": "stream",
     "text": [
      "```json\n",
      "{\n",
      "\t\"presente\": true,\n",
      "\t\"dias_entrega\": 2,\n",
      "\t\"percepcao_de_valor\": [\"É um pouco mais caro do que os outros sopradores de folhas disponíveis no mercado, mas acho que vale a pena pelas características extras.\"]\n",
      "}\n",
      "```\n"
     ]
    }
   ],
   "source": [
    "print(resposta.content)"
   ]
  },
  {
   "cell_type": "code",
   "execution_count": 30,
   "metadata": {},
   "outputs": [],
   "source": [
    "resposta_json = output_parser.parse(resposta.content)"
   ]
  },
  {
   "cell_type": "code",
   "execution_count": 31,
   "metadata": {},
   "outputs": [
    {
     "data": {
      "text/plain": [
       "{'presente': True,\n",
       " 'dias_entrega': 2,\n",
       " 'percepcao_de_valor': ['É um pouco mais caro do que os outros sopradores de folhas disponíveis no mercado, mas acho que vale a pena pelas características extras.']}"
      ]
     },
     "execution_count": 31,
     "metadata": {},
     "output_type": "execute_result"
    }
   ],
   "source": [
    "resposta_json"
   ]
  },
  {
   "cell_type": "code",
   "execution_count": 32,
   "metadata": {},
   "outputs": [
    {
     "data": {
      "text/plain": [
       "True"
      ]
     },
     "execution_count": 32,
     "metadata": {},
     "output_type": "execute_result"
    }
   ],
   "source": [
    "resposta_json['presente']"
   ]
  },
  {
   "cell_type": "code",
   "execution_count": 33,
   "metadata": {},
   "outputs": [
    {
     "data": {
      "text/plain": [
       "2"
      ]
     },
     "execution_count": 33,
     "metadata": {},
     "output_type": "execute_result"
    }
   ],
   "source": [
    "resposta_json['dias_entrega']"
   ]
  },
  {
   "cell_type": "code",
   "execution_count": 34,
   "metadata": {},
   "outputs": [
    {
     "data": {
      "text/plain": [
       "['É um pouco mais caro do que os outros sopradores de folhas disponíveis no mercado, mas acho que vale a pena pelas características extras.']"
      ]
     },
     "execution_count": 34,
     "metadata": {},
     "output_type": "execute_result"
    }
   ],
   "source": [
    "resposta_json['percepcao_de_valor']"
   ]
  },
  {
   "cell_type": "code",
   "execution_count": null,
   "metadata": {},
   "outputs": [],
   "source": []
  }
 ],
 "metadata": {
  "kernelspec": {
   "display_name": "venv",
   "language": "python",
   "name": "python3"
  },
  "language_info": {
   "codemirror_mode": {
    "name": "ipython",
    "version": 3
   },
   "file_extension": ".py",
   "mimetype": "text/x-python",
   "name": "python",
   "nbconvert_exporter": "python",
   "pygments_lexer": "ipython3",
   "version": "3.12.7"
  }
 },
 "nbformat": 4,
 "nbformat_minor": 2
}
