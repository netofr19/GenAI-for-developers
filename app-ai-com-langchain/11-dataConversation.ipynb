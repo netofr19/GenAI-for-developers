{
 "cells": [
  {
   "cell_type": "markdown",
   "metadata": {},
   "source": [
    "# Conversando com os Dados"
   ]
  },
  {
   "cell_type": "code",
   "execution_count": 1,
   "metadata": {},
   "outputs": [],
   "source": [
    "from langchain_openai import OpenAIEmbeddings\n",
    "from langchain_community.vectorstores.chroma import Chroma\n",
    "\n",
    "from langchain_community.document_loaders.pdf import PyPDFLoader\n",
    "from langchain_text_splitters import RecursiveCharacterTextSplitter"
   ]
  },
  {
   "cell_type": "code",
   "execution_count": 3,
   "metadata": {},
   "outputs": [],
   "source": [
    "paths = [\n",
    "    \"./data/Aprendizado_de_máquina.pdf\",\n",
    "    \"./data/Inteligência_artificial_generativa.pdf\",\n",
    "    \"./data/Inteligência_artificial.pdf\"\n",
    "]\n",
    "\n",
    "pages = []\n",
    "\n",
    "for path in paths:\n",
    "    loader = PyPDFLoader(path)\n",
    "    pages.extend(loader.load())\n",
    "\n",
    "doc_split = RecursiveCharacterTextSplitter(\n",
    "    chunk_size=500,\n",
    "    chunk_overlap=50,\n",
    "    separators=[\"\\n\\n\", \"\\n\", \".\", \" \", \"\"]\n",
    ")\n",
    "\n",
    "documents = doc_split.split_documents(pages)\n",
    "\n",
    "for i, doc in enumerate(documents):\n",
    "    doc.metadata['source'] = doc.metadata['source'].replace('./data/', '')\n",
    "    doc.metadata['doc_id'] = i"
   ]
  },
  {
   "cell_type": "code",
   "execution_count": 4,
   "metadata": {},
   "outputs": [],
   "source": [
    "directory = './data/chat_retrieval'\n",
    "\n",
    "embed_model = OpenAIEmbeddings()\n",
    "vectordb = Chroma.from_documents(\n",
    "    documents=documents,\n",
    "    embedding=embed_model,\n",
    "    persist_directory=directory\n",
    ")"
   ]
  },
  {
   "cell_type": "markdown",
   "metadata": {},
   "source": [
    "## Criando estrutura de conversa"
   ]
  },
  {
   "cell_type": "code",
   "execution_count": 5,
   "metadata": {},
   "outputs": [],
   "source": [
    "from langchain_openai import ChatOpenAI\n",
    "\n",
    "chat = ChatOpenAI(\n",
    "    model=\"gpt-4o-mini\"\n",
    ")"
   ]
  },
  {
   "cell_type": "code",
   "execution_count": 6,
   "metadata": {},
   "outputs": [],
   "source": [
    "from langchain.chains.retrieval_qa.base import RetrievalQA\n",
    "\n",
    "chat_chain = RetrievalQA.from_chain_type(\n",
    "    llm=chat,\n",
    "    retriever=vectordb.as_retriever(search_type='mmr')\n",
    ")"
   ]
  },
  {
   "cell_type": "code",
   "execution_count": 7,
   "metadata": {},
   "outputs": [
    {
     "data": {
      "text/plain": [
       "{'query': 'O que é IA? Qual a sua relação com IA Generativa?',\n",
       " 'result': 'IA, ou inteligência artificial, é um campo da ciência da computação que busca desenvolver sistemas capazes de realizar tarefas que normalmente requerem inteligência humana, como reconhecimento de fala, compreensão de linguagem, resolução de problemas e tomada de decisões.\\n\\nA IA generativa é um ramo específico da inteligência artificial que se concentra na criação de conteúdo novo, baseando-se em padrões identificados em conjuntos de dados de treinamento. Isso significa que, com base em entradas, a IA generativa é capaz de criar textos, imagens, áudio, vídeos e até mesmo sequências de código de software. Portanto, a IA generativa é uma aplicação da inteligência artificial que se dedica à geração de novas informações e criações.'}"
      ]
     },
     "execution_count": 7,
     "metadata": {},
     "output_type": "execute_result"
    }
   ],
   "source": [
    "pergunta = 'O que é IA? Qual a sua relação com IA Generativa?'\n",
    "chat_chain.invoke({'query': pergunta})"
   ]
  },
  {
   "cell_type": "markdown",
   "metadata": {},
   "source": [
    "## Modificando o prompt da chain"
   ]
  },
  {
   "cell_type": "code",
   "execution_count": 10,
   "metadata": {},
   "outputs": [],
   "source": [
    "from langchain.prompts import PromptTemplate\n",
    "\n",
    "chain_prompt = PromptTemplate.from_template(\n",
    "    \"\"\"\n",
    "    Utilize o contexto fornecido para responder a pergunta ao final.\n",
    "    Se você não sabe a resposta, apenas diga que não sabe e não tente inventar a resposta.\n",
    "    Mantenha a resposa concisa, com no máximo três frases.\n",
    "\n",
    "    Contexto: {context}\n",
    "\n",
    "    Pergunta: {question}\n",
    "\n",
    "    Resposta:\n",
    "    \"\"\"\n",
    ")"
   ]
  },
  {
   "cell_type": "code",
   "execution_count": 12,
   "metadata": {},
   "outputs": [],
   "source": [
    "chat_chain = RetrievalQA.from_chain_type(\n",
    "    llm=chat,\n",
    "    retriever=vectordb.as_retriever(search_type='mmr'),\n",
    "    chain_type_kwargs={'prompt': chain_prompt},\n",
    "    return_source_documents=True\n",
    ")"
   ]
  },
  {
   "cell_type": "code",
   "execution_count": 14,
   "metadata": {},
   "outputs": [
    {
     "name": "stdout",
     "output_type": "stream",
     "text": [
      "A inteligência artificial (IA) é um ramo da ciência da computação que busca desenvolver sistemas capazes de simular a inteligência humana, realizando tarefas como reconhecimento de padrões, aprendizado e tomada de decisões. A IA generativa é uma subcategoria da IA que se concentra na criação de conteúdo novo, utilizando modelos aprendidos com dados de treinamento para gerar texto, imagens, áudio e outros tipos de mídia. Portanto, a IA generativa é uma aplicação específica dentro do campo mais amplo da inteligência artificial.\n"
     ]
    }
   ],
   "source": [
    "pergunta = 'O que é IA? Qual a sua relação com IA Generativa?'\n",
    "resposta = chat_chain.invoke({'query': pergunta})\n",
    "print(resposta['result'])"
   ]
  },
  {
   "cell_type": "code",
   "execution_count": 16,
   "metadata": {},
   "outputs": [
    {
     "name": "stdout",
     "output_type": "stream",
     "text": [
      "Inteligência artificial generativa\n",
      "Inteligência artificial generativa ou IA generativa é um ramo da inteligência artificial focado na\n",
      "criação de conteúdo novo, baseado em padrões identificados nos conjuntos de dados de treinamento. É\n",
      "possível criar conteúdo como texto, imagens, áudio, vídeo, código de software, podendo ser gerados a\n",
      "partir de solicitações em linguagem natural, ou até de através de imagens para imagens, e de vídeos para\n",
      "\n",
      "===========================\n",
      "\n",
      "Moléculas: Os sistemas generativos de IA podem ser treinados em sequências de\n",
      "aminoácidos ou representações moleculares, como SMILES representando DNA ou\n",
      "proteínas. Esses sistemas, como o AlphaFold, são usados para previsão da estrutura de\n",
      "proteínas e descoberta de medicamentos.[20] Conjuntos de dados incluem vários conjuntos\n",
      "de dados biológicos.\n",
      "Multimodal: um sistema de IA generativo pode ser construído a partir de vários modelos\n",
      "\n",
      "===========================\n",
      "\n",
      "acontece a partir da década de 2010, com resultados extramemente fortes no final dessa década e no\n",
      "início da década de 2020, a partir de modelos contendo bilhões de parametros, como o GPT-3[26] e\n",
      "conceitos como Redes Neurais Profundas,[27] Transformers,[28] e Atenção.[29]\n",
      "Em torno de 2022, a maior parte da pesquisa em IA gira em torno dos conceitos de Aprendizado de\n",
      "Máquina e Conexionismo, havendo também propostas para sistemas híbridos.\n",
      "\n",
      "===========================\n",
      "\n",
      "19. «IA generativa reinventa o que é jogar - MIT Technology Review» (https://mittechreview.co\n",
      "m.br/ia-generativa-e-jogos/). MIT Technology Review - Brasil. 29 de julho de 2024.\n",
      "Consultado em 6 de agosto de 2024\n",
      "20. Heaven, Will Douglas (15 de fevereiro de 2023). «AI is dreaming up drugs that no one has\n",
      "ever seen. Now we've got to see if they work» (https://www.technologyreview.com/2023/02/1\n",
      "5/1067904/ai-automation-drug-development/). MIT Technology Review. Massachusetts\n",
      "\n",
      "===========================\n",
      "\n"
     ]
    }
   ],
   "source": [
    "for i in resposta['source_documents']:\n",
    "    print(i.page_content)\n",
    "    print(\"\\n===========================\\n\")"
   ]
  },
  {
   "cell_type": "markdown",
   "metadata": {},
   "source": [
    "## Outros tipos de Chains"
   ]
  },
  {
   "cell_type": "markdown",
   "metadata": {},
   "source": [
    "### Stuff"
   ]
  },
  {
   "cell_type": "code",
   "execution_count": 17,
   "metadata": {},
   "outputs": [
    {
     "name": "stdout",
     "output_type": "stream",
     "text": [
      "IA, ou inteligência artificial, refere-se a sistemas computacionais projetados para realizar tarefas que normalmente requerem inteligência humana, como raciocínio, aprendizado, reconhecimento de padrões e tomada de decisões. A IA generativa é um ramo específico da inteligência artificial que se concentra na criação de conteúdo novo, como texto, imagens, áudio e vídeo, com base em padrões identificados em conjuntos de dados de treinamento. Em outras palavras, enquanto a IA em geral pode incluir uma ampla gama de aplicações, a IA generativa se especializa em produzir novos conteúdos a partir de dados existentes.\n"
     ]
    }
   ],
   "source": [
    "chat_chain = RetrievalQA.from_chain_type(\n",
    "    llm=chat,\n",
    "    retriever=vectordb.as_retriever(search_type='mmr'),\n",
    "    chain_type='stuff'\n",
    ")\n",
    "\n",
    "pergunta = 'O que é IA? Qual a sua relação com IA Generativa?'\n",
    "resposta = chat_chain.invoke({'query': pergunta})\n",
    "print(resposta['result'])"
   ]
  },
  {
   "cell_type": "markdown",
   "metadata": {},
   "source": [
    "### Map Reduce"
   ]
  },
  {
   "cell_type": "code",
   "execution_count": 18,
   "metadata": {},
   "outputs": [
    {
     "name": "stdout",
     "output_type": "stream",
     "text": [
      "IA, ou Inteligência Artificial, refere-se a sistemas ou máquinas que imitam a inteligência humana para realizar tarefas e podem se aprimorar com base nas informações que coletam. A IA Generativa é uma subcategoria da IA que se concentra na geração de novos conteúdos, como texto, imagens ou sons, a partir de padrões que aprendeu em dados existentes. Em resumo, enquanto a IA abrange um conjunto mais amplo de técnicas e aplicações para emular a inteligência humana, a IA Generativa foca especificamente na criação de novos conteúdos.\n"
     ]
    }
   ],
   "source": [
    "chat_chain = RetrievalQA.from_chain_type(\n",
    "    llm=chat,\n",
    "    retriever=vectordb.as_retriever(search_type='mmr'),\n",
    "    chain_type='map_reduce'\n",
    ")\n",
    "\n",
    "pergunta = 'O que é IA? Qual a sua relação com IA Generativa?'\n",
    "resposta = chat_chain.invoke({'query': pergunta})\n",
    "print(resposta['result'])"
   ]
  },
  {
   "cell_type": "markdown",
   "metadata": {},
   "source": [
    "## Refine"
   ]
  },
  {
   "cell_type": "code",
   "execution_count": 19,
   "metadata": {},
   "outputs": [
    {
     "name": "stdout",
     "output_type": "stream",
     "text": [
      "IA, ou inteligência artificial, refere-se a sistemas ou máquinas que têm a capacidade de executar tarefas que normalmente requerem inteligência humana, como raciocínio, aprendizado, planejamento, compreensão de linguagem, percepção visual e tomada de decisão. Recentemente, a IA tem evoluído rapidamente, especialmente com o surgimento de modelos complexos, como o GPT-3, que possui bilhões de parâmetros, permitindo resultados impressionantes.\n",
      "\n",
      "A IA Generativa é um ramo específico da inteligência artificial que se concentra na criação de conteúdo novo a partir de padrões identificados em dados de treinamento. Isso inclui a geração de texto, imagens, áudio e até mesmo o desenvolvimento de novos medicamentos, como demonstrado em pesquisas recentes que mostram como a IA pode \"sonhar\" com drogas inéditas para investigar sua eficácia. Além disso, a IA Generativa também está revolucionando indústrias como o entretenimento, onde é aplicada para reinventar experiências de jogos, oferecendo novas maneiras de interagir e criar conteúdo dinâmico.\n",
      "\n",
      "Essas inovações não apenas ampliam as possibilidades criativas, mas também impulsionam avanços em diversos setores, tornando a IA Generativa uma área empolgante e crucial no desenvolvimento da inteligência artificial contemporânea.\n"
     ]
    }
   ],
   "source": [
    "chat_chain = RetrievalQA.from_chain_type(\n",
    "    llm=chat,\n",
    "    retriever=vectordb.as_retriever(search_type='mmr'),\n",
    "    chain_type='refine'\n",
    ")\n",
    "\n",
    "pergunta = 'O que é IA? Qual a sua relação com IA Generativa?'\n",
    "resposta = chat_chain.invoke({'query': pergunta})\n",
    "print(resposta['result'])"
   ]
  },
  {
   "cell_type": "code",
   "execution_count": null,
   "metadata": {},
   "outputs": [],
   "source": []
  }
 ],
 "metadata": {
  "kernelspec": {
   "display_name": "venv",
   "language": "python",
   "name": "python3"
  },
  "language_info": {
   "codemirror_mode": {
    "name": "ipython",
    "version": 3
   },
   "file_extension": ".py",
   "mimetype": "text/x-python",
   "name": "python",
   "nbconvert_exporter": "python",
   "pygments_lexer": "ipython3",
   "version": "3.12.3"
  }
 },
 "nbformat": 4,
 "nbformat_minor": 2
}
