{
 "cells": [
  {
   "cell_type": "markdown",
   "metadata": {},
   "source": [
    "# Retrieval"
   ]
  },
  {
   "cell_type": "code",
   "execution_count": 1,
   "metadata": {},
   "outputs": [],
   "source": [
    "from langchain_community.document_loaders.pdf import PyPDFLoader\n",
    "from langchain_text_splitters import RecursiveCharacterTextSplitter"
   ]
  },
  {
   "cell_type": "code",
   "execution_count": 2,
   "metadata": {},
   "outputs": [],
   "source": [
    "paths = [\n",
    "    \"./data/Aprendizado_de_máquina.pdf\",\n",
    "    \"./data/Inteligência_artificial_generativa.pdf\",\n",
    "    \"./data/Inteligência_artificial.pdf\"\n",
    "]\n",
    "\n",
    "pages = []\n",
    "\n",
    "for path in paths:\n",
    "    loader = PyPDFLoader(path)\n",
    "    pages.extend(loader.load())\n",
    "\n",
    "doc_split = RecursiveCharacterTextSplitter(\n",
    "    chunk_size=500,\n",
    "    chunk_overlap=50,\n",
    "    separators=[\"\\n\\n\", \"\\n\", \".\", \" \", \"\"]\n",
    ")\n",
    "\n",
    "documents = doc_split.split_documents(pages)"
   ]
  },
  {
   "cell_type": "code",
   "execution_count": 3,
   "metadata": {},
   "outputs": [
    {
     "data": {
      "text/plain": [
       "268"
      ]
     },
     "execution_count": 3,
     "metadata": {},
     "output_type": "execute_result"
    }
   ],
   "source": [
    "len(documents)"
   ]
  },
  {
   "cell_type": "markdown",
   "metadata": {},
   "source": [
    "## Modificando o metadata"
   ]
  },
  {
   "cell_type": "code",
   "execution_count": 4,
   "metadata": {},
   "outputs": [],
   "source": [
    "for i, doc in enumerate(documents):\n",
    "    doc.metadata['source'] = doc.metadata['source'].replace('./data/', '')\n",
    "    doc.metadata['doc_id'] = i"
   ]
  },
  {
   "cell_type": "code",
   "execution_count": 5,
   "metadata": {},
   "outputs": [
    {
     "data": {
      "text/plain": [
       "{'producer': 'Skia/PDF m128',\n",
       " 'creator': 'Mozilla/5.0 (X11; Linux x86_64) AppleWebKit/537.36 (KHTML, like Gecko) HeadlessChrome/128.0.0.0 Safari/537.36',\n",
       " 'creationdate': '2025-02-18T18:05:54+00:00',\n",
       " 'title': 'Aprendizado de máquina – Wikipédia, a enciclopédia livre',\n",
       " 'moddate': '2025-02-18T18:05:54+00:00',\n",
       " 'source': 'Aprendizado_de_máquina.pdf',\n",
       " 'total_pages': 14,\n",
       " 'page': 0,\n",
       " 'page_label': '1',\n",
       " 'doc_id': 0}"
      ]
     },
     "execution_count": 5,
     "metadata": {},
     "output_type": "execute_result"
    }
   ],
   "source": [
    "documents[0].metadata"
   ]
  },
  {
   "cell_type": "markdown",
   "metadata": {},
   "source": [
    "## Criação do VectorStore"
   ]
  },
  {
   "cell_type": "code",
   "execution_count": 6,
   "metadata": {},
   "outputs": [],
   "source": [
    "from langchain_openai import OpenAIEmbeddings\n",
    "from langchain_community.vectorstores.chroma import Chroma\n",
    "\n",
    "embed_model = OpenAIEmbeddings()"
   ]
  },
  {
   "cell_type": "code",
   "execution_count": 7,
   "metadata": {},
   "outputs": [],
   "source": [
    "directory = \"./data/chroma_retrieval\"\n",
    "\n",
    "vectordb = Chroma.from_documents(\n",
    "    documents=documents,\n",
    "    embedding=embed_model,\n",
    "    persist_directory=directory\n",
    ")"
   ]
  },
  {
   "cell_type": "markdown",
   "metadata": {},
   "source": [
    "## Semantic Search"
   ]
  },
  {
   "cell_type": "code",
   "execution_count": 8,
   "metadata": {},
   "outputs": [
    {
     "name": "stdout",
     "output_type": "stream",
     "text": [
      "Inteligência artificial\n",
      "Na informática, a Inteligência Artificial (IA) genericamente é a inteligência, o raciocínio e, o\n",
      "aprendizado exibida por máquinas semelhante ao raciocino humano;[1][2] busca desenvolver máquinas\n",
      "autônomas ou sistemas especialistas capazes de simular o pensamento humano e realizar varias tarefas\n",
      "complexas de forma independente.[3][4][5][6][7] É o sistema que permite aos computadores executar\n",
      "funções avançadas, como a capacidade de analisar dados em grande escala e fazer\n",
      "\n",
      "METADATA: {'creationdate': '2025-02-18T18:05:19+00:00', 'creator': 'Mozilla/5.0 (X11; Linux x86_64) AppleWebKit/537.36 (KHTML, like Gecko) HeadlessChrome/128.0.0.0 Safari/537.36', 'doc_id': 139, 'moddate': '2025-02-18T18:05:19+00:00', 'page': 0, 'page_label': '1', 'producer': 'Skia/PDF m128', 'source': 'Inteligência_artificial.pdf', 'title': 'Inteligência artificial – Wikipédia, a enciclopédia livre', 'total_pages': 18}\n",
      "\n",
      "===============================\n",
      "\n",
      "Inteligência artificial\n",
      "Na informática, a Inteligência Artificial (IA) genericamente é a inteligência, o raciocínio e, o\n",
      "aprendizado exibida por máquinas semelhante ao raciocino humano;[1][2] busca desenvolver máquinas\n",
      "autônomas ou sistemas especialistas capazes de simular o pensamento humano e realizar varias tarefas\n",
      "complexas de forma independente.[3][4][5][6][7] É o sistema que permite aos computadores executar\n",
      "funções avançadas, como a capacidade de analisar dados em grande escala e fazer\n",
      "\n",
      "METADATA: {'creationdate': '2025-02-18T18:05:19+00:00', 'creator': 'Mozilla/5.0 (X11; Linux x86_64) AppleWebKit/537.36 (KHTML, like Gecko) HeadlessChrome/128.0.0.0 Safari/537.36', 'doc_id': 139, 'moddate': '2025-02-18T18:05:19+00:00', 'page': 0, 'page_label': '1', 'producer': 'Skia/PDF m128', 'source': 'Inteligência_artificial.pdf', 'title': 'Inteligência artificial – Wikipédia, a enciclopédia livre', 'total_pages': 18}\n",
      "\n",
      "===============================\n",
      "\n",
      "Wikipédia, por exemplo.\n",
      "Uma popular e inicial definição de inteligência artificial, introduzida por John McCarthy na famosa\n",
      "conferência de Dartmouth em 1956 é \"fazer a máquina comportar-se de tal forma que seja chamada\n",
      "inteligente caso fosse este o comportamento de um ser humano.\" No entanto, esta definição parece\n",
      "ignorar a possibilidade de existir a IA forte (ver abaixo).\n",
      "Outra definição de Inteligência Artificial é a inteligência que surge de um \"dispositivo artificial\". A\n",
      "\n",
      "METADATA: {'creationdate': '2025-02-18T18:05:19+00:00', 'creator': 'Mozilla/5.0 (X11; Linux x86_64) AppleWebKit/537.36 (KHTML, like Gecko) HeadlessChrome/128.0.0.0 Safari/537.36', 'doc_id': 175, 'moddate': '2025-02-18T18:05:19+00:00', 'page': 4, 'page_label': '5', 'producer': 'Skia/PDF m128', 'source': 'Inteligência_artificial.pdf', 'title': 'Inteligência artificial – Wikipédia, a enciclopédia livre', 'total_pages': 18}\n",
      "\n",
      "===============================\n",
      "\n"
     ]
    }
   ],
   "source": [
    "pergunta = \"O que é Inteligência artificial?\"\n",
    "\n",
    "docs = vectordb.similarity_search(pergunta, k=3)\n",
    "\n",
    "for doc in docs:\n",
    "    print(doc.page_content)\n",
    "    print(f'\\nMETADATA: {doc.metadata}\\n')\n",
    "    print(f'===============================\\n')"
   ]
  },
  {
   "cell_type": "markdown",
   "metadata": {},
   "source": [
    "## MMR"
   ]
  },
  {
   "cell_type": "code",
   "execution_count": 9,
   "metadata": {},
   "outputs": [
    {
     "name": "stdout",
     "output_type": "stream",
     "text": [
      "Inteligência artificial\n",
      "Na informática, a Inteligência Artificial (IA) genericamente é a inteligência, o raciocínio e, o\n",
      "aprendizado exibida por máquinas semelhante ao raciocino humano;[1][2] busca desenvolver máquinas\n",
      "autônomas ou sistemas especialistas capazes de simular o pensamento humano e realizar varias tarefas\n",
      "complexas de forma independente.[3][4][5][6][7] É o sistema que permite aos computadores executar\n",
      "funções avançadas, como a capacidade de analisar dados em grande escala e fazer\n",
      "\n",
      "METADATA: {'creationdate': '2025-02-18T18:05:19+00:00', 'creator': 'Mozilla/5.0 (X11; Linux x86_64) AppleWebKit/537.36 (KHTML, like Gecko) HeadlessChrome/128.0.0.0 Safari/537.36', 'doc_id': 139, 'moddate': '2025-02-18T18:05:19+00:00', 'page': 0, 'page_label': '1', 'producer': 'Skia/PDF m128', 'source': 'Inteligência_artificial.pdf', 'title': 'Inteligência artificial – Wikipédia, a enciclopédia livre', 'total_pages': 18}\n",
      "\n",
      "===============================\n",
      "\n",
      "Obtida de \"https://pt.wikipedia.org/w/index.php?title=Inteligência_artificial&oldid=69532883\"\n",
      "Ligações externas\n",
      "\n",
      "METADATA: {'creationdate': '2025-02-18T18:05:19+00:00', 'creator': 'Mozilla/5.0 (X11; Linux x86_64) AppleWebKit/537.36 (KHTML, like Gecko) HeadlessChrome/128.0.0.0 Safari/537.36', 'doc_id': 267, 'moddate': '2025-02-18T18:05:19+00:00', 'page': 17, 'page_label': '18', 'producer': 'Skia/PDF m128', 'source': 'Inteligência_artificial.pdf', 'title': 'Inteligência artificial – Wikipédia, a enciclopédia livre', 'total_pages': 18}\n",
      "\n",
      "===============================\n",
      "\n",
      "maior parte das definições podem ser categorizadas em sistemas que: \"pensam como um humano; agem\n",
      "como um humano; pensam racionalmente ou agem racionalmente\".[6][7]\n",
      "Os principais pesquisadores e livros didáticos definem o campo como \"o estudo e projeto de agentes\n",
      "inteligentes\", onde um agente inteligente é um sistema que percebe seu ambiente e toma atitudes que\n",
      "maximizam suas chances de sucesso. Andreas Kaplan e Michael Haenlein definem a inteligência artificial\n",
      "\n",
      "METADATA: {'creationdate': '2025-02-18T18:05:19+00:00', 'creator': 'Mozilla/5.0 (X11; Linux x86_64) AppleWebKit/537.36 (KHTML, like Gecko) HeadlessChrome/128.0.0.0 Safari/537.36', 'doc_id': 176, 'moddate': '2025-02-18T18:05:19+00:00', 'page': 4, 'page_label': '5', 'producer': 'Skia/PDF m128', 'source': 'Inteligência_artificial.pdf', 'title': 'Inteligência artificial – Wikipédia, a enciclopédia livre', 'total_pages': 18}\n",
      "\n",
      "===============================\n",
      "\n"
     ]
    }
   ],
   "source": [
    "pergunta = \"O que é Inteligência artificial?\"\n",
    "\n",
    "docs = vectordb.max_marginal_relevance_search(pergunta, k=3, fetch_k=10)\n",
    "\n",
    "for doc in docs:\n",
    "    print(doc.page_content)\n",
    "    print(f'\\nMETADATA: {doc.metadata}\\n')\n",
    "    print(f'===============================\\n')"
   ]
  },
  {
   "cell_type": "markdown",
   "metadata": {},
   "source": [
    "## Filtragem"
   ]
  },
  {
   "cell_type": "code",
   "execution_count": 10,
   "metadata": {},
   "outputs": [
    {
     "name": "stdout",
     "output_type": "stream",
     "text": [
      "Inteligência artificial generativa\n",
      "Inteligência artificial generativa ou IA generativa é um ramo da inteligência artificial focado na\n",
      "criação de conteúdo novo, baseado em padrões identificados nos conjuntos de dados de treinamento. É\n",
      "possível criar conteúdo como texto, imagens, áudio, vídeo, código de software, podendo ser gerados a\n",
      "partir de solicitações em linguagem natural, ou até de através de imagens para imagens, e de vídeos para\n",
      "\n",
      "METADATA: {'creationdate': '2025-02-18T18:06:24+00:00', 'creator': 'Mozilla/5.0 (X11; Linux x86_64) AppleWebKit/537.36 (KHTML, like Gecko) HeadlessChrome/128.0.0.0 Safari/537.36', 'doc_id': 94, 'moddate': '2025-02-18T18:06:24+00:00', 'page': 0, 'page_label': '1', 'producer': 'Skia/PDF m128', 'source': 'Inteligência_artificial_generativa.pdf', 'title': 'Inteligência artificial generativa – Wikipédia, a enciclopédia livre', 'total_pages': 6}\n",
      "\n",
      "===============================\n",
      "\n",
      "Inteligência artificial generativa\n",
      "Inteligência artificial generativa ou IA generativa é um ramo da inteligência artificial focado na\n",
      "criação de conteúdo novo, baseado em padrões identificados nos conjuntos de dados de treinamento. É\n",
      "possível criar conteúdo como texto, imagens, áudio, vídeo, código de software, podendo ser gerados a\n",
      "partir de solicitações em linguagem natural, ou até de através de imagens para imagens, e de vídeos para\n",
      "\n",
      "METADATA: {'creationdate': '2025-02-18T18:06:24+00:00', 'creator': 'Mozilla/5.0 (X11; Linux x86_64) AppleWebKit/537.36 (KHTML, like Gecko) HeadlessChrome/128.0.0.0 Safari/537.36', 'doc_id': 94, 'moddate': '2025-02-18T18:06:24+00:00', 'page': 0, 'page_label': '1', 'producer': 'Skia/PDF m128', 'source': 'Inteligência_artificial_generativa.pdf', 'title': 'Inteligência artificial generativa – Wikipédia, a enciclopédia livre', 'total_pages': 6}\n",
      "\n",
      "===============================\n",
      "\n",
      "generativos ou um modelo treinado em vários tipos de dados. Por exemplo, uma versão do\n",
      "GPT-4 da OpenAI aceita entradas de texto e imagem.[21]\n",
      "A Inteligência Artificial Generativa tem demonstrado um potencial transformador em diversos setores da\n",
      "sociedade, impulsionando avanços significativos em áreas que giram em torno da tecnologia. No entanto,\n",
      "o rápido desenvolvimento dessa tecnologia também tem levantado preocupações sobre seus possíveis\n",
      "impactos negativos.[22] Como os descritos a seguir:\n",
      "\n",
      "METADATA: {'creationdate': '2025-02-18T18:06:24+00:00', 'creator': 'Mozilla/5.0 (X11; Linux x86_64) AppleWebKit/537.36 (KHTML, like Gecko) HeadlessChrome/128.0.0.0 Safari/537.36', 'doc_id': 111, 'moddate': '2025-02-18T18:06:24+00:00', 'page': 2, 'page_label': '3', 'producer': 'Skia/PDF m128', 'source': 'Inteligência_artificial_generativa.pdf', 'title': 'Inteligência artificial generativa – Wikipédia, a enciclopédia livre', 'total_pages': 6}\n",
      "\n",
      "===============================\n",
      "\n"
     ]
    }
   ],
   "source": [
    "pergunta = \"O que é Inteligência artificial?\"\n",
    "\n",
    "docs = vectordb.similarity_search(pergunta, k=3, filter={'source': 'Inteligência_artificial_generativa.pdf'})\n",
    "\n",
    "for doc in docs:\n",
    "    print(doc.page_content)\n",
    "    print(f'\\nMETADATA: {doc.metadata}\\n')\n",
    "    print(f'===============================\\n')"
   ]
  },
  {
   "cell_type": "markdown",
   "metadata": {},
   "source": [
    "## LLM Aided Retrieval"
   ]
  },
  {
   "cell_type": "code",
   "execution_count": 11,
   "metadata": {},
   "outputs": [],
   "source": [
    "from langchain_openai.llms import OpenAI\n",
    "from langchain.retrievers.self_query.base import SelfQueryRetriever\n",
    "from langchain.chains.query_constructor.schema import AttributeInfo"
   ]
  },
  {
   "cell_type": "code",
   "execution_count": 12,
   "metadata": {},
   "outputs": [],
   "source": [
    "metadata_info = [\n",
    "    AttributeInfo(\n",
    "        name='source',\n",
    "        description='Nome da apostila de onde o texto original foi retirado. Deve ter o valor de: Inteligência_artificial_generativa.pdf ou Inteligência_artificial.pdf',\n",
    "        type='string'\n",
    "    ),\n",
    "    AttributeInfo(\n",
    "        name='page',\n",
    "        description='A página da apostila de onde o texto se origina',\n",
    "        type='integer'\n",
    "    )\n",
    "]"
   ]
  },
  {
   "cell_type": "code",
   "execution_count": 13,
   "metadata": {},
   "outputs": [],
   "source": [
    "document_description = 'Arquivos do Wikipedia'\n",
    "\n",
    "llm = OpenAI()\n",
    "\n",
    "retriever = SelfQueryRetriever.from_llm(\n",
    "    llm,\n",
    "    vectordb,\n",
    "    document_description,\n",
    "    metadata_info,\n",
    "    verbose=True\n",
    ")"
   ]
  },
  {
   "cell_type": "code",
   "execution_count": 15,
   "metadata": {},
   "outputs": [
    {
     "name": "stdout",
     "output_type": "stream",
     "text": [
      "n/OnlinePubs-Nils/General%20Essays/AIMag04-04-002.pdf) (PDF). AI Magazine. 1 (1).\n",
      "ISSN 0738-4602 (https://www.worldcat.org/issn/0738-4602)\n",
      "34. Nilsson, Nils (1998). Artificial Intelligence: A New Synthesis. San Francisco: Morgan\n",
      "Kaufmann Publishers. p. 7. ISBN 978-1-55860-467-4\n",
      "35. Pei Wang (2008). Artificial general intelligence, 2008: proceedings of the First AGI\n",
      "Conference (http://books.google.com/books?id=a_ZR81Z25z0C&pg=PA63). [S.l.]: IOS\n",
      "\n",
      "METADATA: {'creationdate': '2025-02-18T18:05:19+00:00', 'creator': 'Mozilla/5.0 (X11; Linux x86_64) AppleWebKit/537.36 (KHTML, like Gecko) HeadlessChrome/128.0.0.0 Safari/537.36', 'doc_id': 252, 'moddate': '2025-02-18T18:05:19+00:00', 'page': 15, 'page_label': '16', 'producer': 'Skia/PDF m128', 'source': 'Inteligência_artificial.pdf', 'title': 'Inteligência artificial – Wikipédia, a enciclopédia livre', 'total_pages': 18}\n",
      "\n",
      "===============================\n",
      "\n",
      "n/OnlinePubs-Nils/General%20Essays/AIMag04-04-002.pdf) (PDF). AI Magazine. 1 (1).\n",
      "ISSN 0738-4602 (https://www.worldcat.org/issn/0738-4602)\n",
      "34. Nilsson, Nils (1998). Artificial Intelligence: A New Synthesis. San Francisco: Morgan\n",
      "Kaufmann Publishers. p. 7. ISBN 978-1-55860-467-4\n",
      "35. Pei Wang (2008). Artificial general intelligence, 2008: proceedings of the First AGI\n",
      "Conference (http://books.google.com/books?id=a_ZR81Z25z0C&pg=PA63). [S.l.]: IOS\n",
      "\n",
      "METADATA: {'creationdate': '2025-02-18T18:05:19+00:00', 'creator': 'Mozilla/5.0 (X11; Linux x86_64) AppleWebKit/537.36 (KHTML, like Gecko) HeadlessChrome/128.0.0.0 Safari/537.36', 'doc_id': 252, 'moddate': '2025-02-18T18:05:19+00:00', 'page': 15, 'page_label': '16', 'producer': 'Skia/PDF m128', 'source': 'Inteligência_artificial.pdf', 'title': 'Inteligência artificial – Wikipédia, a enciclopédia livre', 'total_pages': 18}\n",
      "\n",
      "===============================\n",
      "\n",
      "Inteligência artificial generativa\n",
      "Inteligência artificial generativa ou IA generativa é um ramo da inteligência artificial focado na\n",
      "criação de conteúdo novo, baseado em padrões identificados nos conjuntos de dados de treinamento. É\n",
      "possível criar conteúdo como texto, imagens, áudio, vídeo, código de software, podendo ser gerados a\n",
      "partir de solicitações em linguagem natural, ou até de através de imagens para imagens, e de vídeos para\n",
      "\n",
      "METADATA: {'creationdate': '2025-02-18T18:06:24+00:00', 'creator': 'Mozilla/5.0 (X11; Linux x86_64) AppleWebKit/537.36 (KHTML, like Gecko) HeadlessChrome/128.0.0.0 Safari/537.36', 'doc_id': 94, 'moddate': '2025-02-18T18:06:24+00:00', 'page': 0, 'page_label': '1', 'producer': 'Skia/PDF m128', 'source': 'Inteligência_artificial_generativa.pdf', 'title': 'Inteligência artificial generativa – Wikipédia, a enciclopédia livre', 'total_pages': 6}\n",
      "\n",
      "===============================\n",
      "\n",
      "Inteligência artificial generativa\n",
      "Inteligência artificial generativa ou IA generativa é um ramo da inteligência artificial focado na\n",
      "criação de conteúdo novo, baseado em padrões identificados nos conjuntos de dados de treinamento. É\n",
      "possível criar conteúdo como texto, imagens, áudio, vídeo, código de software, podendo ser gerados a\n",
      "partir de solicitações em linguagem natural, ou até de através de imagens para imagens, e de vídeos para\n",
      "\n",
      "METADATA: {'creationdate': '2025-02-18T18:06:24+00:00', 'creator': 'Mozilla/5.0 (X11; Linux x86_64) AppleWebKit/537.36 (KHTML, like Gecko) HeadlessChrome/128.0.0.0 Safari/537.36', 'doc_id': 94, 'moddate': '2025-02-18T18:06:24+00:00', 'page': 0, 'page_label': '1', 'producer': 'Skia/PDF m128', 'source': 'Inteligência_artificial_generativa.pdf', 'title': 'Inteligência artificial generativa – Wikipédia, a enciclopédia livre', 'total_pages': 6}\n",
      "\n",
      "===============================\n",
      "\n"
     ]
    }
   ],
   "source": [
    "pergunta = \"Qual a relação entre IA e GenAI?\"\n",
    "\n",
    "docs = retriever.get_relevant_documents(pergunta)\n",
    "\n",
    "for doc in docs:\n",
    "    print(doc.page_content)\n",
    "    print(f'\\nMETADATA: {doc.metadata}\\n')\n",
    "    print(f'===============================\\n')"
   ]
  }
 ],
 "metadata": {
  "kernelspec": {
   "display_name": "venv",
   "language": "python",
   "name": "python3"
  },
  "language_info": {
   "codemirror_mode": {
    "name": "ipython",
    "version": 3
   },
   "file_extension": ".py",
   "mimetype": "text/x-python",
   "name": "python",
   "nbconvert_exporter": "python",
   "pygments_lexer": "ipython3",
   "version": "3.12.3"
  }
 },
 "nbformat": 4,
 "nbformat_minor": 2
}
