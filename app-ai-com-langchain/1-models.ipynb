{
 "cells": [
  {
   "cell_type": "markdown",
   "metadata": {},
   "source": [
    "# LLMs"
   ]
  },
  {
   "cell_type": "code",
   "execution_count": 2,
   "metadata": {},
   "outputs": [
    {
     "data": {
      "text/plain": [
       "True"
      ]
     },
     "execution_count": 2,
     "metadata": {},
     "output_type": "execute_result"
    }
   ],
   "source": [
    "from dotenv import load_dotenv\n",
    "\n",
    "load_dotenv()"
   ]
  },
  {
   "cell_type": "code",
   "execution_count": 4,
   "metadata": {},
   "outputs": [],
   "source": [
    "from langchain_openai import OpenAI\n",
    "\n",
    "llm = OpenAI()"
   ]
  },
  {
   "cell_type": "markdown",
   "metadata": {},
   "source": [
    "## Chamando a LLM"
   ]
  },
  {
   "cell_type": "code",
   "execution_count": 6,
   "metadata": {},
   "outputs": [
    {
     "name": "stdout",
     "output_type": "stream",
     "text": [
      "\n",
      "\n",
      "Era uma vez um jovem chamado Lucas que sempre foi fascinado por tecnologia e computadores. Ele passava horas jogando jogos online e se divertindo com programas de edição de vídeos. Um dia, ele decidiu que não queria apenas ser um usuário dessas tecnologias, mas sim entender como elas funcionavam e criar suas próprias ferramentas.\n",
      "\n",
      "Lucas decidiu que aprender a programar seria a melhor forma de alcançar esse objetivo. Ele começou a pesquisar na internet e encontrou diversos cursos online gratuitos sobre programação. Ele se inscreveu em alguns e começou a estudar todos os dias, dedicando horas a entender os conceitos básicos de lógica de programação, linguagens de programação e algoritmos.\n",
      "\n",
      "No começo, Lucas ficou um pouco frustrado, pois não conseguia entender alguns conceitos e cometia muitos erros ao escrever os códigos. Mas ele não desistiu e continuou estudando e praticando. Ele também encontrou comunidades online de programadores que o ajudaram a tirar dúvidas e compartilharam dicas valiosas.\n",
      "\n",
      "Com o tempo\n"
     ]
    }
   ],
   "source": [
    "pergunta = \"Conte uma história breve sobre a jornada de aprender a programar\"\n",
    "print(llm.invoke(pergunta))"
   ]
  },
  {
   "cell_type": "markdown",
   "metadata": {},
   "source": [
    "## Chamando com stream de resposta"
   ]
  },
  {
   "cell_type": "code",
   "execution_count": 7,
   "metadata": {},
   "outputs": [
    {
     "name": "stdout",
     "output_type": "stream",
     "text": [
      "\n",
      "\n",
      "Era uma vez um jovem chamado Pedro, que sempre foi fascinado pelo mundo da tecnologia e computação. Desde cedo, ele demonstrava interesse em entender como os computadores funcionavam e como os programas eram criados. Porém, ele não tinha recursos para investir em cursos ou livros sobre programação.\n",
      "\n",
      "Determinado a aprender, Pedro começou a pesquisar na internet por conteúdos gratuitos e tutoriais sobre programação. Ele também participava de fóruns e grupos de discussão para tirar dúvidas e trocar conhecimentos com outros programadores.\n",
      "\n",
      "No começo, Pedro teve dificuldades em entender a lógica de programação e as linguagens de programação, mas ele não desistiu. Ele dedicava horas do seu dia para praticar e aprimorar seus conhecimentos.\n",
      "\n",
      "Com o tempo, Pedro começou a desenvolver pequenos projetos e ficava maravilhado com os resultados. Cada linha de código que ele escrevia era uma conquista e uma nova descoberta.\n",
      "\n",
      "Mesmo com o apoio de suas conquistas, Pedro sabia que ainda tinha muito a aprender. Ele decidiu se matricular em"
     ]
    }
   ],
   "source": [
    "pergunta = \"Conte uma história breve sobre a jornada de aprender a programar\"\n",
    "for trecho in llm.stream(pergunta):\n",
    "    print(trecho, end=\"\")"
   ]
  },
  {
   "cell_type": "markdown",
   "metadata": {},
   "source": [
    "## Chamadas simultâneas"
   ]
  },
  {
   "cell_type": "code",
   "execution_count": 9,
   "metadata": {},
   "outputs": [
    {
     "name": "stdout",
     "output_type": "stream",
     "text": [
      "\n",
      "\n",
      "O céu é o espaço acima da superfície da Terra, que é visível a olho nu durante o dia e à noite. É composto por várias camadas de ar e gases, incluindo oxigênio, nitrogênio e outros gases. A atmosfera terrestre é responsável por proteger a vida na Terra, absorvendo a radiação solar prejudicial e mantendo a temperatura adequada. O céu também é conhecido por ser o lugar onde as nuvens, o sol, a lua e as estrelas podem ser vistos. Além disso, em algumas crenças religiosas, o céu é visto como um lugar de paz e felicidade após a morte.\n",
      "\n",
      "\n",
      "A terra é o terceiro planeta do sistema solar, situado entre Vênus e Marte. É o único planeta conhecido que possui vida, com uma atmosfera que permite a existência de água em estado líquido e uma grande variedade de seres vivos. É composta principalmente por rochas e minerais, coberta por água em sua superfície e com uma camada de ar ao seu redor. A terra também é o lar de uma grande diversidade de ecossistemas, incluindo oceanos, florestas, desertos e montanhas. Além disso, é o local onde se desenvolveu a civilização humana e onde vivem bilhões de pessoas atualmente.\n",
      "\n",
      "\n",
      "As estrelas são corpos celestes luminosos que emitem luz e calor próprios. Elas são formadas por gases e poeira que se juntam em grandes quantidades devido à força da gravidade. A maioria das estrelas são compostas principalmente de hidrogênio e hélio, e são responsáveis por fornecer a energia necessária para manter o universo em constante movimento. As estrelas variam em tamanho, brilho, temperatura e cor, e podem ser encontradas em diferentes fases de sua vida, desde a formação até a morte. Elas são essenciais para a existência da vida no universo, já que são responsáveis por produzir elementos químicos necessários para a formação de planetas e seres vivos.\n"
     ]
    }
   ],
   "source": [
    "perguntas = [\n",
    "    \"O que é o céu?\",\n",
    "    \"O que é a terra?\",\n",
    "    \"O que são as estrelas?\"\n",
    "]\n",
    "\n",
    "for i in llm.batch(perguntas):\n",
    "    print(i)"
   ]
  },
  {
   "cell_type": "markdown",
   "metadata": {},
   "source": [
    "## ChatModels"
   ]
  },
  {
   "cell_type": "code",
   "execution_count": 14,
   "metadata": {},
   "outputs": [],
   "source": [
    "from langchain_openai import ChatOpenAI\n",
    "\n",
    "chat = ChatOpenAI(model=\"gpt-4o-mini\")"
   ]
  },
  {
   "cell_type": "code",
   "execution_count": 19,
   "metadata": {},
   "outputs": [
    {
     "name": "stdout",
     "output_type": "stream",
     "text": [
      "1 + 1 é igual a 2! Mas, se você estiver falando de piadas, então 1 + 1 pode ser um ótimo começo! Por que duas meias se juntaram? Porque elas estavam cansadas de estar sozinhas! 😂\n"
     ]
    }
   ],
   "source": [
    "from langchain_core.messages import HumanMessage, SystemMessage\n",
    "\n",
    "mensagens = [\n",
    "    SystemMessage(content=\"Você é um assistente que conta piadas.\"),\n",
    "    HumanMessage(content=\"Quanto é 1 + 1?\")\n",
    "]\n",
    "\n",
    "print(chat.invoke(mensagens).content)"
   ]
  },
  {
   "cell_type": "code",
   "execution_count": null,
   "metadata": {},
   "outputs": [],
   "source": []
  }
 ],
 "metadata": {
  "kernelspec": {
   "display_name": "venv",
   "language": "python",
   "name": "python3"
  },
  "language_info": {
   "codemirror_mode": {
    "name": "ipython",
    "version": 3
   },
   "file_extension": ".py",
   "mimetype": "text/x-python",
   "name": "python",
   "nbconvert_exporter": "python",
   "pygments_lexer": "ipython3",
   "version": "3.12.7"
  }
 },
 "nbformat": 4,
 "nbformat_minor": 2
}
