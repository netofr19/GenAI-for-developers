{
 "cells": [
  {
   "cell_type": "markdown",
   "metadata": {},
   "source": [
    "# CHAPTER 08 - Semantic Search and Retrieval-Augmented Generation"
   ]
  },
  {
   "cell_type": "markdown",
   "metadata": {},
   "source": [
    "## Dense Retrieval"
   ]
  },
  {
   "cell_type": "code",
   "execution_count": 1,
   "metadata": {},
   "outputs": [
    {
     "data": {
      "text/plain": [
       "True"
      ]
     },
     "execution_count": 1,
     "metadata": {},
     "output_type": "execute_result"
    }
   ],
   "source": [
    "from dotenv import load_dotenv\n",
    "import os\n",
    "import numpy as np\n",
    "import pandas as pd\n",
    "from tqdm import tqdm\n",
    "import cohere\n",
    "\n",
    "load_dotenv()"
   ]
  },
  {
   "cell_type": "code",
   "execution_count": 2,
   "metadata": {},
   "outputs": [],
   "source": [
    "co = cohere.Client(os.environ.get('COHERE_API_KEY'))"
   ]
  },
  {
   "cell_type": "markdown",
   "metadata": {},
   "source": [
    "### Getting the text archive and chunking it"
   ]
  },
  {
   "cell_type": "code",
   "execution_count": 3,
   "metadata": {},
   "outputs": [],
   "source": [
    "text = \"\"\"\n",
    "Interstellar is a 2014 epic science fiction film co-written, directed, and pro\n",
    "duced by Christopher Nolan. \n",
    "It stars Matthew McConaughey, Anne Hathaway, Jessica Chastain, Bill Irwin, \n",
    "Ellen Burstyn, Matt Damon, and Michael Caine. \n",
    "Set in a dystopian future where humanity is struggling to survive, the film \n",
    "follows a group of astronauts who travel through a wormhole near Saturn in \n",
    "search of a new home for mankind.\n",
    "\n",
    "Brothers Christopher and Jonathan Nolan wrote the screenplay, which had its \n",
    "origins in a script Jonathan developed in 2007. \n",
    "Caltech theoretical physicist and 2017 Nobel laureate in Physics[4] Kip Thorne \n",
    "was an executive producer, acted as a scientific consultant, and wrote a tie-in \n",
    "book, The Science of Interstellar. \n",
    "Cinematographer Hoyte van Hoytema shot it on 35 mm movie film in the Panavision \n",
    "anamorphic format and IMAX 70 mm. \n",
    "Principal photography began in late 2013 and took place in Alberta, Iceland, \n",
    "and Los Angeles. \n",
    "Interstellar uses extensive practical and miniature effects and the company \n",
    "Double Negative created additional digital effects.\n",
    "\n",
    "Interstellar premiered on October 26, 2014, in Los Angeles. \n",
    "In the United States, it was first released on film stock, expanding to venues \n",
    "using digital projectors. \n",
    "The film had a worldwide gross over $677 million (and $773 million with subse\n",
    "quent re-releases), making it the tenth-highest grossing film of 2014. \n",
    "It received acclaim for its performances, direction, screenplay, musical score, \n",
    "visual effects, ambition, themes, and emotional weight. \n",
    "It has also received praise from many astronomers for its scientific accuracy \n",
    "and portrayal of theoretical astrophysics. Since its premiere, Interstellar \n",
    "gained a cult following,[5] and now is regarded by many sci-fi experts as one \n",
    "of the best science-fiction films of all time.\n",
    "Interstellar was nominated for five awards at the 87th Academy Awards, winning \n",
    "Best Visual Effects, and received numerous other accolades\n",
    "\"\"\""
   ]
  },
  {
   "cell_type": "code",
   "execution_count": 4,
   "metadata": {},
   "outputs": [
    {
     "data": {
      "text/plain": [
       "['\\nInterstellar is a 2014 epic science fiction film co-written, directed, and pro\\nduced by Christopher Nolan',\n",
       " ' \\nIt stars Matthew McConaughey, Anne Hathaway, Jessica Chastain, Bill Irwin, \\nEllen Burstyn, Matt Damon, and Michael Caine',\n",
       " ' \\nSet in a dystopian future where humanity is struggling to survive, the film \\nfollows a group of astronauts who travel through a wormhole near Saturn in \\nsearch of a new home for mankind',\n",
       " '\\n\\nBrothers Christopher and Jonathan Nolan wrote the screenplay, which had its \\norigins in a script Jonathan developed in 2007',\n",
       " ' \\nCaltech theoretical physicist and 2017 Nobel laureate in Physics[4] Kip Thorne \\nwas an executive producer, acted as a scientific consultant, and wrote a tie-in \\nbook, The Science of Interstellar',\n",
       " ' \\nCinematographer Hoyte van Hoytema shot it on 35 mm movie film in the Panavision \\nanamorphic format and IMAX 70 mm',\n",
       " ' \\nPrincipal photography began in late 2013 and took place in Alberta, Iceland, \\nand Los Angeles',\n",
       " ' \\nInterstellar uses extensive practical and miniature effects and the company \\nDouble Negative created additional digital effects',\n",
       " '\\n\\nInterstellar premiered on October 26, 2014, in Los Angeles',\n",
       " ' \\nIn the United States, it was first released on film stock, expanding to venues \\nusing digital projectors',\n",
       " ' \\nThe film had a worldwide gross over $677 million (and $773 million with subse\\nquent re-releases), making it the tenth-highest grossing film of 2014',\n",
       " ' \\nIt received acclaim for its performances, direction, screenplay, musical score, \\nvisual effects, ambition, themes, and emotional weight',\n",
       " ' \\nIt has also received praise from many astronomers for its scientific accuracy \\nand portrayal of theoretical astrophysics',\n",
       " ' Since its premiere, Interstellar \\ngained a cult following,[5] and now is regarded by many sci-fi experts as one \\nof the best science-fiction films of all time',\n",
       " '\\nInterstellar was nominated for five awards at the 87th Academy Awards, winning \\nBest Visual Effects, and received numerous other accolades\\n']"
      ]
     },
     "execution_count": 4,
     "metadata": {},
     "output_type": "execute_result"
    }
   ],
   "source": [
    "# Split into a list of sentences\n",
    "texts = text.split('.')\n",
    "texts"
   ]
  },
  {
   "cell_type": "code",
   "execution_count": 5,
   "metadata": {},
   "outputs": [
    {
     "data": {
      "text/plain": [
       "['Interstellar is a 2014 epic science fiction film co-written, directed, and produced by Christopher Nolan',\n",
       " 'It stars Matthew McConaughey, Anne Hathaway, Jessica Chastain, Bill Irwin, Ellen Burstyn, Matt Damon, and Michael Caine',\n",
       " 'Set in a dystopian future where humanity is struggling to survive, the film follows a group of astronauts who travel through a wormhole near Saturn in search of a new home for mankind',\n",
       " 'Brothers Christopher and Jonathan Nolan wrote the screenplay, which had its origins in a script Jonathan developed in 2007',\n",
       " 'Caltech theoretical physicist and 2017 Nobel laureate in Physics[4] Kip Thorne was an executive producer, acted as a scientific consultant, and wrote a tie-in book, The Science of Interstellar',\n",
       " 'Cinematographer Hoyte van Hoytema shot it on 35 mm movie film in the Panavision anamorphic format and IMAX 70 mm',\n",
       " 'Principal photography began in late 2013 and took place in Alberta, Iceland, and Los Angeles',\n",
       " 'Interstellar uses extensive practical and miniature effects and the company Double Negative created additional digital effects',\n",
       " 'Interstellar premiered on October 26, 2014, in Los Angeles',\n",
       " 'In the United States, it was first released on film stock, expanding to venues using digital projectors',\n",
       " 'The film had a worldwide gross over $677 million (and $773 million with subsequent re-releases), making it the tenth-highest grossing film of 2014',\n",
       " 'It received acclaim for its performances, direction, screenplay, musical score, visual effects, ambition, themes, and emotional weight',\n",
       " 'It has also received praise from many astronomers for its scientific accuracy and portrayal of theoretical astrophysics',\n",
       " 'Since its premiere, Interstellar gained a cult following,[5] and now is regarded by many sci-fi experts as one of the best science-fiction films of all time',\n",
       " 'Interstellar was nominated for five awards at the 87th Academy Awards, winning Best Visual Effects, and received numerous other accolades']"
      ]
     },
     "execution_count": 5,
     "metadata": {},
     "output_type": "execute_result"
    }
   ],
   "source": [
    "# Clean up to remove empty spaces and new lines\n",
    "texts = [t.strip(' \\n') for t in texts]\n",
    "texts = [t.replace('\\n', '') for t in texts]\n",
    "texts"
   ]
  },
  {
   "cell_type": "markdown",
   "metadata": {},
   "source": [
    "### Embedding the text chunks"
   ]
  },
  {
   "cell_type": "code",
   "execution_count": 6,
   "metadata": {},
   "outputs": [],
   "source": [
    "# Get the embeddings\n",
    "response = co.embed(\n",
    "    texts=texts,\n",
    "    input_type=\"search_document\"\n",
    ").embeddings\n",
    "\n",
    "embeds = np.array(response)"
   ]
  },
  {
   "cell_type": "code",
   "execution_count": 7,
   "metadata": {},
   "outputs": [
    {
     "data": {
      "text/plain": [
       "array([[ 0.21228027, -1.2519531 ,  1.2949219 , ...,  1.5058594 ,\n",
       "         0.88671875, -0.79052734],\n",
       "       [ 2.3847656 , -0.5361328 ,  0.4560547 , ...,  0.8027344 ,\n",
       "         0.1430664 , -0.21972656],\n",
       "       [ 1.6035156 , -1.0830078 ,  1.0039062 , ...,  0.32128906,\n",
       "        -1.4453125 , -0.3137207 ],\n",
       "       ...,\n",
       "       [ 2.0058594 , -0.42797852,  3.0253906 , ...,  0.84375   ,\n",
       "        -1.9521484 , -0.23461914],\n",
       "       [ 2.6191406 , -1.4667969 ,  1.8798828 , ...,  0.8066406 ,\n",
       "        -0.19580078, -1.0117188 ],\n",
       "       [ 0.5527344 , -2.6953125 ,  1.1621094 , ..., -1.7802734 ,\n",
       "        -1.7197266 , -2.1289062 ]], shape=(15, 4096))"
      ]
     },
     "execution_count": 7,
     "metadata": {},
     "output_type": "execute_result"
    }
   ],
   "source": [
    "embeds"
   ]
  },
  {
   "cell_type": "code",
   "execution_count": 8,
   "metadata": {},
   "outputs": [
    {
     "name": "stdout",
     "output_type": "stream",
     "text": [
      "(15, 4096)\n"
     ]
    }
   ],
   "source": [
    "print(embeds.shape)"
   ]
  },
  {
   "cell_type": "markdown",
   "metadata": {},
   "source": [
    "### Building the search index"
   ]
  },
  {
   "cell_type": "code",
   "execution_count": 9,
   "metadata": {},
   "outputs": [],
   "source": [
    "import faiss"
   ]
  },
  {
   "cell_type": "code",
   "execution_count": 10,
   "metadata": {},
   "outputs": [
    {
     "name": "stdout",
     "output_type": "stream",
     "text": [
      "True\n"
     ]
    }
   ],
   "source": [
    "dim = embeds.shape[1]\n",
    "index = faiss.IndexFlatL2(dim)\n",
    "print(index.is_trained)"
   ]
  },
  {
   "cell_type": "code",
   "execution_count": 11,
   "metadata": {},
   "outputs": [],
   "source": [
    "index.add(np.float32(embeds))"
   ]
  },
  {
   "cell_type": "markdown",
   "metadata": {},
   "source": [
    "### Search the index"
   ]
  },
  {
   "cell_type": "code",
   "execution_count": 12,
   "metadata": {},
   "outputs": [],
   "source": [
    "def search(query, number_of_results=3):\n",
    "\n",
    "    # 1. Get the query's embedding\n",
    "    query_embed = co.embed(\n",
    "        texts=[query],\n",
    "        input_type=\"search_document\"\n",
    "    ).embeddings[0]\n",
    "\n",
    "    # 2. Retrieve the nearest neighbors\n",
    "    distances, similar_item_ids = index.search(\n",
    "        np.float32([query_embed]),\n",
    "        number_of_results\n",
    "    )\n",
    "\n",
    "    # 3. Format the results\n",
    "    texts_np = np.array(texts) # Convert texts list to numpy for easier indexing\n",
    "    results = pd.DataFrame(\n",
    "        data={\n",
    "            'texts': texts_np[similar_item_ids[0]],\n",
    "            'distance': distances[0]\n",
    "        }\n",
    "    )\n",
    "\n",
    "    # 4. Print and return the results\n",
    "    print(f\"Query: '{query}'\\nNearest neighbors:\")\n",
    "    return results"
   ]
  },
  {
   "cell_type": "code",
   "execution_count": 13,
   "metadata": {},
   "outputs": [
    {
     "name": "stdout",
     "output_type": "stream",
     "text": [
      "Query: 'How precise was the science'\n",
      "Nearest neighbors:\n"
     ]
    },
    {
     "data": {
      "text/html": [
       "<div>\n",
       "<style scoped>\n",
       "    .dataframe tbody tr th:only-of-type {\n",
       "        vertical-align: middle;\n",
       "    }\n",
       "\n",
       "    .dataframe tbody tr th {\n",
       "        vertical-align: top;\n",
       "    }\n",
       "\n",
       "    .dataframe thead th {\n",
       "        text-align: right;\n",
       "    }\n",
       "</style>\n",
       "<table border=\"1\" class=\"dataframe\">\n",
       "  <thead>\n",
       "    <tr style=\"text-align: right;\">\n",
       "      <th></th>\n",
       "      <th>texts</th>\n",
       "      <th>distance</th>\n",
       "    </tr>\n",
       "  </thead>\n",
       "  <tbody>\n",
       "    <tr>\n",
       "      <th>0</th>\n",
       "      <td>It has also received praise from many astronom...</td>\n",
       "      <td>10738.859375</td>\n",
       "    </tr>\n",
       "    <tr>\n",
       "      <th>1</th>\n",
       "      <td>Interstellar uses extensive practical and mini...</td>\n",
       "      <td>11887.107422</td>\n",
       "    </tr>\n",
       "    <tr>\n",
       "      <th>2</th>\n",
       "      <td>Cinematographer Hoyte van Hoytema shot it on 3...</td>\n",
       "      <td>12191.457031</td>\n",
       "    </tr>\n",
       "  </tbody>\n",
       "</table>\n",
       "</div>"
      ],
      "text/plain": [
       "                                               texts      distance\n",
       "0  It has also received praise from many astronom...  10738.859375\n",
       "1  Interstellar uses extensive practical and mini...  11887.107422\n",
       "2  Cinematographer Hoyte van Hoytema shot it on 3...  12191.457031"
      ]
     },
     "execution_count": 13,
     "metadata": {},
     "output_type": "execute_result"
    }
   ],
   "source": [
    "# Write a query and search the texts\n",
    "query = \"How precise was the science\"\n",
    "results = search(query)\n",
    "results"
   ]
  },
  {
   "cell_type": "code",
   "execution_count": 14,
   "metadata": {},
   "outputs": [],
   "source": [
    "from rank_bm25 import BM25Okapi\n",
    "from sklearn.feature_extraction import _stop_words\n",
    "import string"
   ]
  },
  {
   "cell_type": "code",
   "execution_count": 19,
   "metadata": {},
   "outputs": [],
   "source": [
    "def bm25_tokenizer(text: str):\n",
    "    tokenized_doc = []\n",
    "    for token in text.lower().split():\n",
    "        token = token.strip(string.punctuation)\n",
    "\n",
    "        if len(token) > 0 and token not in _stop_words.ENGLISH_STOP_WORDS:\n",
    "            tokenized_doc.append(token)\n",
    "    return tokenized_doc"
   ]
  },
  {
   "cell_type": "code",
   "execution_count": 21,
   "metadata": {},
   "outputs": [
    {
     "name": "stderr",
     "output_type": "stream",
     "text": [
      "100%|██████████| 15/15 [00:00<?, ?it/s]\n"
     ]
    },
    {
     "data": {
      "text/plain": [
       "<rank_bm25.BM25Okapi at 0x1e87b6e6f30>"
      ]
     },
     "execution_count": 21,
     "metadata": {},
     "output_type": "execute_result"
    }
   ],
   "source": [
    "tokenized_corpus = []\n",
    "for passage in tqdm(texts):\n",
    "    tokenized_corpus.append(bm25_tokenizer(passage))\n",
    "\n",
    "bm25 = BM25Okapi(tokenized_corpus)\n",
    "bm25"
   ]
  },
  {
   "cell_type": "code",
   "execution_count": 26,
   "metadata": {},
   "outputs": [],
   "source": [
    "def keyword_search(query, top_k=3, num_candidates=15):\n",
    "    print(f\"Input question: {query}\")\n",
    "\n",
    "    ####### BM25 search (lexical search) #######\n",
    "    bm25_scores = bm25.get_scores(bm25_tokenizer(query))\n",
    "    top_n = np.argpartition(bm25_scores, -num_candidates)[-num_candidates:]\n",
    "    bm25_hits = [{'corpus_id': idx, 'score': bm25_scores[idx]} for idx in top_n]\n",
    "    bm25_hits = sorted(bm25_hits, key=lambda x: x['score'], reverse=True)\n",
    "\n",
    "    print(\"Top-3 lexical search (BM25) hits\")\n",
    "    for hit in bm25_hits[0: top_k]:\n",
    "        print(f\"\\t{hit['score']:.3f}\\t{texts[hit['corpus_id']]}\")"
   ]
  },
  {
   "cell_type": "code",
   "execution_count": 27,
   "metadata": {},
   "outputs": [
    {
     "name": "stdout",
     "output_type": "stream",
     "text": [
      "Input question: how precise was the science\n",
      "Top-3 lexical search (BM25) hits\n",
      "\t1.789\tInterstellar is a 2014 epic science fiction film co-written, directed, and produced by Christopher Nolan\n",
      "\t1.373\tCaltech theoretical physicist and 2017 Nobel laureate in Physics[4] Kip Thorne was an executive producer, acted as a scientific consultant, and wrote a tie-in book, The Science of Interstellar\n",
      "\t0.000\tIt stars Matthew McConaughey, Anne Hathaway, Jessica Chastain, Bill Irwin, Ellen Burstyn, Matt Damon, and Michael Caine\n"
     ]
    }
   ],
   "source": [
    "keyword_search(query=\"how precise was the science\")"
   ]
  },
  {
   "cell_type": "markdown",
   "metadata": {},
   "source": [
    "## Reranking"
   ]
  },
  {
   "cell_type": "code",
   "execution_count": 29,
   "metadata": {},
   "outputs": [
    {
     "name": "stdout",
     "output_type": "stream",
     "text": [
      "0 | 0.16981852 | It has also received praise from many astronomers for its scientific accuracy and portrayal of theoretical astrophysics\n",
      "1 | 0.07004896 | The film had a worldwide gross over $677 million (and $773 million with subsequent re-releases), making it the tenth-highest grossing film of 2014\n",
      "2 | 0.0043994132 | Caltech theoretical physicist and 2017 Nobel laureate in Physics[4] Kip Thorne was an executive producer, acted as a scientific consultant, and wrote a tie-in book, The Science of Interstellar\n"
     ]
    }
   ],
   "source": [
    "query = \"how precise was the science\"\n",
    "results = co.rerank(\n",
    "    query=query,\n",
    "    documents=texts,\n",
    "    top_n=3,\n",
    "    return_documents=True\n",
    ")\n",
    "\n",
    "for idx, result in enumerate(results.results):\n",
    "    print(f\"{idx} | {result.relevance_score} | {result.document.text}\")"
   ]
  },
  {
   "cell_type": "markdown",
   "metadata": {},
   "source": [
    "## Retrieval-Augmented Generation (RAG)"
   ]
  },
  {
   "cell_type": "markdown",
   "metadata": {},
   "source": [
    "### Example #1: Grounded Generation with an LLM API"
   ]
  },
  {
   "cell_type": "code",
   "execution_count": 30,
   "metadata": {},
   "outputs": [
    {
     "name": "stdout",
     "output_type": "stream",
     "text": [
      "Query: 'income generated'\n",
      "Nearest neighbors:\n"
     ]
    }
   ],
   "source": [
    "query = \"income generated\"\n",
    "\n",
    "# 1 - Retrieval\n",
    "# We'll use embedding search. But ideally we'd do hybrid\n",
    "results = search(query)"
   ]
  },
  {
   "cell_type": "code",
   "execution_count": 32,
   "metadata": {},
   "outputs": [],
   "source": [
    "# 2 - Grounded Generation\n",
    "docs_dict = [{'text': text} for text in results['texts']]\n",
    "response = co.chat(\n",
    "    message=query,\n",
    "    documents=docs_dict\n",
    ")"
   ]
  },
  {
   "cell_type": "code",
   "execution_count": 33,
   "metadata": {},
   "outputs": [
    {
     "name": "stdout",
     "output_type": "stream",
     "text": [
      "The film grossed over $677 million worldwide, and $773 million with subsequent re-releases.\n"
     ]
    }
   ],
   "source": [
    "print(response.text)"
   ]
  },
  {
   "cell_type": "code",
   "execution_count": 35,
   "metadata": {},
   "outputs": [
    {
     "name": "stdout",
     "output_type": "stream",
     "text": [
      "[{'id': 'doc_0', 'text': 'The film had a worldwide gross over $677 million (and $773 million with subsequent re-releases), making it the tenth-highest grossing film of 2014'}]\n"
     ]
    }
   ],
   "source": [
    "print(response.documents)"
   ]
  },
  {
   "cell_type": "markdown",
   "metadata": {},
   "source": [
    "### Example #2: RAG with local models"
   ]
  },
  {
   "cell_type": "code",
   "execution_count": null,
   "metadata": {},
   "outputs": [],
   "source": []
  }
 ],
 "metadata": {
  "kernelspec": {
   "display_name": "venv",
   "language": "python",
   "name": "python3"
  },
  "language_info": {
   "codemirror_mode": {
    "name": "ipython",
    "version": 3
   },
   "file_extension": ".py",
   "mimetype": "text/x-python",
   "name": "python",
   "nbconvert_exporter": "python",
   "pygments_lexer": "ipython3",
   "version": "3.12.7"
  }
 },
 "nbformat": 4,
 "nbformat_minor": 2
}
